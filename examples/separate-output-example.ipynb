{
 "cells": [
  {
   "cell_type": "code",
   "execution_count": null,
   "metadata": {},
   "outputs": [],
   "source": [
    "from trainplot import TrainPlot\n",
    "import time\n",
    "from tqdm.notebook import trange\n",
    "\n",
    "trainplot = TrainPlot()\n",
    "\n",
    "for i in trange(50):\n",
    "    trainplot(i=i, root=i**.5)\n",
    "    if i % 10 == 0:\n",
    "        print(f'currently at {i} iterations')\n",
    "    time.sleep(0.1)\n",
    "\n",
    "trainplot.close()"
   ]
  }
 ],
 "metadata": {
  "kernelspec": {
   "display_name": "py311",
   "language": "python",
   "name": "python3"
  },
  "language_info": {
   "codemirror_mode": {
    "name": "ipython",
    "version": 3
   },
   "file_extension": ".py",
   "mimetype": "text/x-python",
   "name": "python",
   "nbconvert_exporter": "python",
   "pygments_lexer": "ipython3",
   "version": "3.9.12"
  }
 },
 "nbformat": 4,
 "nbformat_minor": 2
}
