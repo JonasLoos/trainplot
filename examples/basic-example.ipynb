{
 "cells": [
  {
   "cell_type": "code",
   "execution_count": null,
   "metadata": {},
   "outputs": [],
   "source": [
    "from trainplot import TrainPlot\n",
    "import time\n",
    "import random\n",
    "\n",
    "trainplot = TrainPlot()\n",
    "\n",
    "for i in range(100):\n",
    "    trainplot(i = i+random.random()*10, root = i**.5*3)\n",
    "    time.sleep(0.1)\n",
    "\n",
    "trainplot.close()"
   ]
  }
 ],
 "metadata": {
  "kernelspec": {
   "display_name": "base",
   "language": "python",
   "name": "python3"
  },
  "language_info": {
   "codemirror_mode": {
    "name": "ipython",
    "version": 3
   },
   "file_extension": ".py",
   "mimetype": "text/x-python",
   "name": "python",
   "nbconvert_exporter": "python",
   "pygments_lexer": "ipython3",
   "version": "3.9.12"
  }
 },
 "nbformat": 4,
 "nbformat_minor": 2
}
