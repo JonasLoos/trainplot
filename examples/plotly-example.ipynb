{
 "cells": [
  {
   "cell_type": "markdown",
   "metadata": {},
   "source": [
    "# Plotly based Trainplot\n",
    "\n",
    "Note that this is experimental and will most likely change in the future.\n",
    "\n",
    "make sure to install plotly before:\n",
    "```\n",
    "pip install plotly\n",
    "```"
   ]
  },
  {
   "cell_type": "code",
   "execution_count": null,
   "metadata": {},
   "outputs": [],
   "source": [
    "from trainplot.trainplot import TrainPlotPlotly as TrainPlot\n",
    "from time import sleep"
   ]
  },
  {
   "cell_type": "code",
   "execution_count": null,
   "metadata": {},
   "outputs": [],
   "source": [
    "tp = TrainPlot()"
   ]
  },
  {
   "cell_type": "code",
   "execution_count": null,
   "metadata": {},
   "outputs": [],
   "source": [
    "for i in range(100):\n",
    "    tp(i=i, j=i**2)\n",
    "    sleep(0.1)"
   ]
  },
  {
   "cell_type": "markdown",
   "metadata": {},
   "source": [
    "## With customization"
   ]
  },
  {
   "cell_type": "code",
   "execution_count": null,
   "metadata": {},
   "outputs": [],
   "source": [
    "\n",
    "tp = TrainPlot(\n",
    "    update_period=0.2,\n",
    "    fig_args={'layout': {'title': 'My Train Plot', 'height': 600}},\n",
    "    plot_pos={'acc': (0, 0, 0), 'loss': (0, 0, 1), 'val_acc': (0, 0, 0), 'val_loss': (0, 0, 1), 'another_value': (1, 0, 0)},\n",
    "    plot_args={'acc': {'name': 'accuracy', 'line': {'color':'gold'}}, 'another_value': {'type': 'bar'}})\n",
    "tp.fig.update_yaxes(row=2, col=1, type=\"log\")  # log scale\n",
    "...\n",
    "tp(acc=50, val_acc=40, loss=0.5, val_loss=0.5, another_value=42)\n",
    "tp(acc=75, val_acc=50, loss=0.3, val_loss=0.35, another_value=420)\n",
    "tp(acc=90, val_acc=60, loss=0.1, val_loss=0.2, another_value=123)\n",
    "tp(acc=92, val_acc=61, loss=0.05, val_loss=0.15, another_value=1234)"
   ]
  }
 ],
 "metadata": {
  "kernelspec": {
   "display_name": "base",
   "language": "python",
   "name": "python3"
  },
  "language_info": {
   "codemirror_mode": {
    "name": "ipython",
    "version": 3
   },
   "file_extension": ".py",
   "mimetype": "text/x-python",
   "name": "python",
   "nbconvert_exporter": "python",
   "pygments_lexer": "ipython3",
   "version": "3.11.4"
  }
 },
 "nbformat": 4,
 "nbformat_minor": 2
}
