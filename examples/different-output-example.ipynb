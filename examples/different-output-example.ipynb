{
 "cells": [
  {
   "cell_type": "markdown",
   "metadata": {},
   "source": [
    "# Different Output Example\n",
    "\n",
    "Here is an example, where tqdm and print statements write to the cell output at the same time as the plot is updated"
   ]
  },
  {
   "cell_type": "code",
   "execution_count": null,
   "metadata": {},
   "outputs": [],
   "source": [
    "from trainplot import plot\n",
    "from time import sleep\n",
    "from tqdm.notebook import trange\n",
    "\n",
    "for i in trange(50):\n",
    "    plot(i=i, root=i**.5)\n",
    "    if i % 10 == 0:\n",
    "        print(f'currently at {i} iterations')\n",
    "    sleep(0.1)"
   ]
  }
 ],
 "metadata": {
  "kernelspec": {
   "display_name": "py311",
   "language": "python",
   "name": "python3"
  },
  "language_info": {
   "codemirror_mode": {
    "name": "ipython",
    "version": 3
   },
   "file_extension": ".py",
   "mimetype": "text/x-python",
   "name": "python",
   "nbconvert_exporter": "python",
   "pygments_lexer": "ipython3",
   "version": "3.11.0"
  }
 },
 "nbformat": 4,
 "nbformat_minor": 2
}
