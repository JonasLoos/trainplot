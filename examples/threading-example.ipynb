{
 "cells": [
  {
   "cell_type": "code",
   "execution_count": null,
   "metadata": {},
   "outputs": [],
   "source": [
    "from trainplot import TrainPlot\n",
    "import time\n",
    "from tqdm.notebook import trange"
   ]
  },
  {
   "cell_type": "markdown",
   "metadata": {},
   "source": [
    "## example without threading for comparison\n",
    "\n",
    "note that it slows down the \"training\", due to the low update_period. For larger plots this would be even more significant."
   ]
  },
  {
   "cell_type": "code",
   "execution_count": null,
   "metadata": {},
   "outputs": [],
   "source": [
    "trainplot = TrainPlot(update_period=.05, threaded=False)\n",
    "\n",
    "for i in trange(100):\n",
    "    print(f'{i:2d}', end=' ', flush=True)\n",
    "    trainplot(i=i, root=i**.5)\n",
    "    print('.', end=' ', flush=True)\n",
    "    if i % 10 == 9:\n",
    "        print(flush=True)\n",
    "    time.sleep(0.02)\n",
    "\n",
    "trainplot.close()"
   ]
  },
  {
   "cell_type": "markdown",
   "metadata": {},
   "source": [
    "## Example with threading\n",
    "\n",
    "Note that the \"trainig\" is faster, but sometimes the printed output and plot is messed up. So only use threading if you don't have frequent print statements."
   ]
  },
  {
   "cell_type": "code",
   "execution_count": null,
   "metadata": {},
   "outputs": [],
   "source": [
    "trainplot = TrainPlot(update_period=.05, threaded=True)\n",
    "\n",
    "for i in trange(100):\n",
    "    print(f'{i:2d}', end=' ', flush=True)\n",
    "    trainplot(i=i, root=i**.5)\n",
    "    print('.', end=' ', flush=True)\n",
    "    if i % 10 == 9:\n",
    "        print(flush=True)\n",
    "    time.sleep(0.02)\n",
    "\n",
    "trainplot.close()"
   ]
  }
 ],
 "metadata": {
  "kernelspec": {
   "display_name": "base",
   "language": "python",
   "name": "python3"
  },
  "language_info": {
   "codemirror_mode": {
    "name": "ipython",
    "version": 3
   },
   "file_extension": ".py",
   "mimetype": "text/x-python",
   "name": "python",
   "nbconvert_exporter": "python",
   "pygments_lexer": "ipython3",
   "version": "3.9.12"
  }
 },
 "nbformat": 4,
 "nbformat_minor": 2
}
